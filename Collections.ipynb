{
 "cells": [
  {
   "cell_type": "markdown",
   "metadata": {
    "collapsed": false
   },
   "source": [
    "<h2>Collections</h2>\n",
    "\n",
    "<p>The collections module in Python implements specialized container datatypes providing alternatives to Python’s general purpose built-in containers, dict, list, set, and tuple.\n",
    "The following tools exist:\n",
    "\n",
    "* namedtuple : factory function for creating tuple subclasses with named fields\n",
    "* OrderedDict : dict subclass that remembers the order entries were added\n",
    "* Counter : dict subclass for counting hashable objects\n",
    "* defaultdict : dict subclass that calls a factory function to supply missing values\n",
    "* deque : list-like container with fast appends and pops on either end\n",
    "In Python 3 some more modules exist (ChainMap, UserDict, UserList, UserString). See https://docs.python.org/3/library/collections.html for further references.\n",
    "</p>\n",
    "<h2>Counter</h2>\n",
    "A counter is a container that stores elements as dictionary keys, and their counts are stored as dictionary values."
   ]
  },
  {
   "cell_type": "code",
   "execution_count": 6,
   "metadata": {
    "collapsed": false
   },
   "outputs": [
    {
     "name": "stdout",
     "output_type": "stream",
     "text": [
      "Counter({'a': 5, 'b': 4, 'c': 3, 'd': 2, 'e': 1})\n",
      "dict_items([('a', 5), ('b', 4), ('c', 3), ('d', 2), ('e', 1)])\n",
      "dict_keys(['a', 'b', 'c', 'd', 'e'])\n",
      "dict_values([5, 4, 3, 2, 1])\n",
      "Counter({1: 4, 2: 3, 0: 2, 3: 2, 4: 1})\n",
      "[(1, 4)]\n",
      "[0, 0, 1, 1, 1, 1, 2, 2, 2, 3, 3, 4]\n"
     ]
    }
   ],
   "source": [
    "from collections import Counter\n",
    "a = \"aaaaabbbbcccdde\"\n",
    "my_counter = Counter(a)\n",
    "print(my_counter)\n",
    "\n",
    "print(my_counter.items())\n",
    "print(my_counter.keys())\n",
    "print(my_counter.values())\n",
    "\n",
    "my_list = [0, 1, 0, 1, 2, 1, 1, 3, 2, 3, 2, 4]\n",
    "my_counter = Counter(my_list)\n",
    "print(my_counter)\n",
    "\n",
    "# most common items\n",
    "print(my_counter.most_common(1))\n",
    "\n",
    "# Return an iterator over elements repeating each as many times as its count. \n",
    "# Elements are returned in arbitrary order.\n",
    "print(list(my_counter.elements()))"
   ]
  },
  {
   "cell_type": "markdown",
   "metadata": {
    "collapsed": false
   },
   "source": [
    "<h2>namedtuple</h2>\n",
    "\n",
    "<p>namedtuples are easy to create, lightweight object types. They assign meaning to each position in a tuple and allow for more readable, self-documenting code. They can be used wherever regular tuples are used, and they add the ability to access fields by name instead of position index.</p>"
   ]
  },
  {
   "cell_type": "code",
   "execution_count": 7,
   "metadata": {
    "collapsed": false
   },
   "outputs": [
    {
     "name": "stdout",
     "output_type": "stream",
     "text": [
      "Point(x=1, y=-4)\n",
      "('x', 'y')\n",
      "<class '__main__.Point'>\n",
      "1 -4\n",
      "Tom 25\n"
     ]
    }
   ],
   "source": [
    "from collections import namedtuple\n",
    "# create a namedtuple with its class name as string and its fields as string\n",
    "# fields have to be separated by comma or space in the given string\n",
    "Point = namedtuple('Point','x, y')\n",
    "pt = Point(1, -4)\n",
    "print(pt)\n",
    "print(pt._fields)\n",
    "print(type(pt))\n",
    "print(pt.x, pt.y)\n",
    "\n",
    "Person = namedtuple('Person','name, age')\n",
    "friend = Person(name='Tom', age=25)\n",
    "print(friend.name, friend.age)"
   ]
  },
  {
   "cell_type": "markdown",
   "metadata": {
    "collapsed": false
   },
   "source": [
    "\n",
    "<h2>OrderedDict</h2>\n",
    "\n",
    "<p>OrderedDicts are just like regular dictionaries but they remember the order that items were inserted. When iterating over an ordered dictionary, the items are returned in the order their keys were first added. If a new entry overwrites an existing entry, the original insertion position is left unchanged. They have become less important now that the built-in dict class gained the ability to remember insertion order (guaranteed since Python 3.7). But some differences still remain, e.g. the OrderedDict is designed to be good at reordering operations.</p>"
   ]
  },
  {
   "cell_type": "code",
   "execution_count": 8,
   "metadata": {
    "collapsed": false
   },
   "outputs": [
    {
     "name": "stdout",
     "output_type": "stream",
     "text": [
      "{'a': 1, 'b': 2, 'c': 3, 'd': 4, 'e': 5}\n",
      "OrderedDict([('a', 1), ('b', 2), ('c', 3), ('d', 4), ('e', 5)])\n",
      "a 1\n",
      "b 2\n",
      "c 3\n",
      "d 4\n",
      "e 5\n"
     ]
    }
   ],
   "source": [
    "from collections import OrderedDict\n",
    "ordinary_dict = {}\n",
    "ordinary_dict['a'] = 1\n",
    "ordinary_dict['b'] = 2\n",
    "ordinary_dict['c'] = 3\n",
    "ordinary_dict['d'] = 4\n",
    "ordinary_dict['e'] = 5\n",
    "# this may be in orbitrary order prior to Python 3.7\n",
    "print(ordinary_dict)\n",
    "\n",
    "ordered_dict = OrderedDict()\n",
    "ordered_dict['a'] = 1\n",
    "ordered_dict['b'] = 2\n",
    "ordered_dict['c'] = 3\n",
    "ordered_dict['d'] = 4\n",
    "ordered_dict['e'] = 5\n",
    "print(ordered_dict)\n",
    "# same functionality as with ordinary dict, but always ordered\n",
    "for k, v in ordinary_dict.items():\n",
    "    print(k, v)"
   ]
  },
  {
   "cell_type": "markdown",
   "metadata": {
    "collapsed": false
   },
   "source": [
    "<h2>defaultdict</h2>\n",
    "\n",
    "<p>The defaultdict is a container that's similar to the usual dict container, but the only difference is that a defaultdict will have a default value if that key has not been set yet. If you didn't use a defaultdict you'd have to check to see if that key exists, and if it doesn't, set it to what you want.</p>"
   ]
  },
  {
   "cell_type": "code",
   "execution_count": 9,
   "metadata": {
    "collapsed": false
   },
   "outputs": [
    {
     "name": "stdout",
     "output_type": "stream",
     "text": [
      "dict_items([('yellow', 1), ('blue', 2)])\n",
      "0\n",
      "dict_items([('yellow', [1, 3]), ('blue', [2, 4]), ('red', [5])])\n",
      "[]\n"
     ]
    }
   ],
   "source": [
    "from collections import defaultdict\n",
    "\n",
    "# initialize with a default integer value, i.e 0\n",
    "d = defaultdict(int)\n",
    "d['yellow'] = 1\n",
    "d['blue'] = 2\n",
    "print(d.items())\n",
    "print(d['green'])\n",
    "\n",
    "# initialize with a default list value, i.e an empty list\n",
    "d = defaultdict(list)\n",
    "s = [('yellow', 1), ('blue', 2), ('yellow', 3), ('blue', 4), ('red', 5)]\n",
    "for k, v in s:\n",
    "    d[k].append(v)\n",
    "\n",
    "print(d.items())\n",
    "print(d['green'])"
   ]
  },
  {
   "cell_type": "markdown",
   "metadata": {
    "collapsed": false
   },
   "source": [
    "<h2>deque</h2>\n",
    "\n",
    "<p>A deque is a double-ended queue. It can be used to add or remove elements from both ends. Deques support thread safe, memory efficient appends and pops from either side of the deque with approximately the same O(1) performance in either direction. The more commonly used stacks and queues are degenerate forms of deques, where the inputs and outputs are restricted to a single end.</p>"
   ]
  },
  {
   "cell_type": "code",
   "execution_count": 10,
   "metadata": {
    "collapsed": false
   },
   "outputs": [
    {
     "name": "stdout",
     "output_type": "stream",
     "text": [
      "deque(['a', 'b'])\n",
      "deque(['c', 'a', 'b'])\n",
      "b\n",
      "deque(['c', 'a'])\n",
      "c\n",
      "deque(['a'])\n",
      "deque([])\n",
      "deque(['j', 'i', 'h', 'a', 'b', 'c', 'd', 'e', 'f', 'g'])\n",
      "1\n",
      "deque(['g', 'j', 'i', 'h', 'a', 'b', 'c', 'd', 'e', 'f'])\n",
      "deque(['i', 'h', 'a', 'b', 'c', 'd', 'e', 'f', 'g', 'j'])\n"
     ]
    }
   ],
   "source": [
    "from collections import deque\n",
    "d = deque()\n",
    "\n",
    "# append() : add elements to the right end \n",
    "d.append('a')\n",
    "d.append('b')\n",
    "print(d)\n",
    "\n",
    "# appendleft() : add elements to the left end \n",
    "d.appendleft('c')\n",
    "print(d)\n",
    "\n",
    "# pop() : return and remove elements from the right\n",
    "print(d.pop())\n",
    "print(d)\n",
    "\n",
    "# popleft() : return and remove elements from the left\n",
    "print(d.popleft())\n",
    "print(d)\n",
    "\n",
    "# clear() : remove all elements\n",
    "d.clear()\n",
    "print(d)\n",
    "\n",
    "d = deque(['a', 'b', 'c', 'd'])\n",
    "\n",
    "# extend at right or left side\n",
    "d.extend(['e', 'f', 'g'])\n",
    "d.extendleft(['h', 'i', 'j']) # note that 'j' is now at the left most position\n",
    "print(d)\n",
    "\n",
    "# count(x) : returns the number of found elements\n",
    "print(d.count('h'))\n",
    "\n",
    "# rotate 1 positions to the right\n",
    "d.rotate(1)\n",
    "print(d)\n",
    "\n",
    "# rotate 2 positions to the left\n",
    "d.rotate(-2)\n",
    "print(d)"
   ]
  }
 ],
 "metadata": {
  "kernelspec": {
   "display_name": "Python 3 (Anaconda 2020)",
   "env": {
    "ADDR2LINE": "/ext/anaconda2020.02/bin/x86_64-conda_cos6-linux-gnu-addr2line",
    "ANACONDA2019": "$EXT/anaconda-2019.03",
    "ANACONDA2020": "/ext/anaconda2020.02",
    "ANACONDA3": "$EXT/anaconda3",
    "ANACONDA5": "$EXT/anaconda5",
    "AR": "/ext/anaconda2020.02/bin/x86_64-conda_cos6-linux-gnu-ar",
    "AS": "/ext/anaconda2020.02/bin/x86_64-conda_cos6-linux-gnu-as",
    "CC": "/ext/anaconda2020.02/bin/x86_64-conda_cos6-linux-gnu-cc",
    "CFLAGS": "-march=nocona -mtune=haswell -ftree-vectorize -fPIC -fstack-protector-strong -fno-plt -O2 -ffunction-sections -pipe -isystem /ext/anaconda2020.02/include",
    "CMAKE_PREFIX_PATH": "/ext/anaconda2020.02:/ext/anaconda2020.02/x86_64-conda_cos6-linux-gnu/sysroot/usr",
    "CONDA_BACKUP_HOST": "x86_64-conda_cos6-linux-gnu",
    "CONDA_BUILD_SYSROOT": "/ext/anaconda2020.02/x86_64-conda_cos6-linux-gnu/sysroot",
    "CONDA_DEFAULT_ENV": "base",
    "CONDA_EXE": "/ext/anaconda2020.02/bin/conda",
    "CONDA_MKL_INTERFACE_LAYER_BACKUP": "",
    "CONDA_PREFIX": "/ext/anaconda2020.02",
    "CONDA_PROMPT_MODIFIER": "(base) ",
    "CONDA_PYTHON_EXE": "/ext/anaconda2020.02/bin/python",
    "CONDA_SHLVL": "1",
    "CPP": "/ext/anaconda2020.02/bin/x86_64-conda_cos6-linux-gnu-cpp",
    "CPPFLAGS": "-DNDEBUG -D_FORTIFY_SOURCE=2 -O2 -isystem /ext/anaconda2020.02/include",
    "CXX": "/ext/anaconda2020.02/bin/x86_64-conda_cos6-linux-gnu-c++",
    "CXXFILT": "/ext/anaconda2020.02/bin/x86_64-conda_cos6-linux-gnu-c++filt",
    "CXXFLAGS": "-fvisibility-inlines-hidden -std=c++17 -fmessage-length=0 -march=nocona -mtune=haswell -ftree-vectorize -fPIC -fstack-protector-strong -fno-plt -O2 -ffunction-sections -pipe -isystem /ext/anaconda2020.02/include",
    "DEBUG_CFLAGS": "-march=nocona -mtune=haswell -ftree-vectorize -fPIC -fstack-protector-all -fno-plt -Og -g -Wall -Wextra -fvar-tracking-assignments -ffunction-sections -pipe -isystem /ext/anaconda2020.02/include",
    "DEBUG_CPPFLAGS": "-D_DEBUG -D_FORTIFY_SOURCE=2 -Og -isystem /ext/anaconda2020.02/include",
    "DEBUG_CXXFLAGS": "-fvisibility-inlines-hidden -std=c++17 -fmessage-length=0 -march=nocona -mtune=haswell -ftree-vectorize -fPIC -fstack-protector-all -fno-plt -Og -g -Wall -Wextra -fvar-tracking-assignments -ffunction-sections -pipe -isystem /ext/anaconda2020.02/include",
    "DEBUG_FFLAGS": "-fopenmp -march=nocona -mtune=haswell -ftree-vectorize -fPIC -fstack-protector-strong -fno-plt -O2 -ffunction-sections -pipe -isystem /ext/anaconda2020.02/include -fopenmp -march=nocona -mtune=haswell -ftree-vectorize -fPIC -fstack-protector-all -fno-plt -Og -g -Wall -Wextra -fcheck=all -fbacktrace -fimplicit-none -fvar-tracking-assignments -ffunction-sections -pipe",
    "DEBUG_FORTRANFLAGS": "-fopenmp -march=nocona -mtune=haswell -ftree-vectorize -fPIC -fstack-protector-strong -fno-plt -O2 -ffunction-sections -pipe -isystem /ext/anaconda2020.02/include -fopenmp -march=nocona -mtune=haswell -ftree-vectorize -fPIC -fstack-protector-all -fno-plt -Og -g -Wall -Wextra -fcheck=all -fbacktrace -fimplicit-none -fvar-tracking-assignments -ffunction-sections -pipe",
    "ELFEDIT": "/ext/anaconda2020.02/bin/x86_64-conda_cos6-linux-gnu-elfedit",
    "F77": "/ext/anaconda2020.02/bin/x86_64-conda_cos6-linux-gnu-gfortran",
    "F90": "/ext/anaconda2020.02/bin/x86_64-conda_cos6-linux-gnu-gfortran",
    "F95": "/ext/anaconda2020.02/bin/x86_64-conda_cos6-linux-gnu-f95",
    "FC": "/ext/anaconda2020.02/bin/x86_64-conda_cos6-linux-gnu-gfortran",
    "FFLAGS": "-fopenmp -march=nocona -mtune=haswell -ftree-vectorize -fPIC -fstack-protector-strong -fno-plt -O2 -ffunction-sections -pipe -isystem /ext/anaconda2020.02/include",
    "FORTRANFLAGS": "-fopenmp -march=nocona -mtune=haswell -ftree-vectorize -fPIC -fstack-protector-strong -fno-plt -O2 -ffunction-sections -pipe -isystem /ext/anaconda2020.02/include",
    "GCC": "/ext/anaconda2020.02/bin/x86_64-conda_cos6-linux-gnu-gcc",
    "GCC_AR": "/ext/anaconda2020.02/bin/x86_64-conda_cos6-linux-gnu-gcc-ar",
    "GCC_NM": "/ext/anaconda2020.02/bin/x86_64-conda_cos6-linux-gnu-gcc-nm",
    "GCC_RANLIB": "/ext/anaconda2020.02/bin/x86_64-conda_cos6-linux-gnu-gcc-ranlib",
    "GDAL_DATA": "/ext/anaconda2020.02/share/gdal",
    "GFORTRAN": "/ext/anaconda2020.02/bin/x86_64-conda_cos6-linux-gnu-gfortran",
    "GPROF": "/ext/anaconda2020.02/bin/x86_64-conda_cos6-linux-gnu-gprof",
    "GXX": "/ext/anaconda2020.02/bin/x86_64-conda_cos6-linux-gnu-g++",
    "JAVA_HOME": "/ext/anaconda2020.02",
    "JAVA_HOME_CONDA_BACKUP": "",
    "JAVA_LD_LIBRARY_PATH": "/ext/anaconda2020.02/lib/server",
    "LD": "/ext/anaconda2020.02/bin/x86_64-conda_cos6-linux-gnu-ld",
    "LDFLAGS": "-Wl,-O2 -Wl,--sort-common -Wl,--as-needed -Wl,-z,relro -Wl,-z,now -Wl,--disable-new-dtags -Wl,--gc-sections -Wl,-rpath,/ext/anaconda2020.02/lib -Wl,-rpath-link,/ext/anaconda2020.02/lib -L/ext/anaconda2020.02/lib",
    "LD_GOLD": "/ext/anaconda2020.02/bin/x86_64-conda_cos6-linux-gnu-ld.gold",
    "LD_LIBRARY_PATH": "/ext/anaconda2020.02/lib",
    "MKL_INTERFACE_LAYER": "LP64,GNU",
    "MKL_THREADING_LAYER": "GNU",
    "NM": "/ext/anaconda2020.02/bin/x86_64-conda_cos6-linux-gnu-nm",
    "OBJCOPY": "/ext/anaconda2020.02/bin/x86_64-conda_cos6-linux-gnu-objcopy",
    "OBJDUMP": "/ext/anaconda2020.02/bin/x86_64-conda_cos6-linux-gnu-objdump",
    "OLDPWD": "/ext/anaconda2020.02",
    "PATH": "/ext/anaconda2020.02/bin:/ext/anaconda2020.02/bin:/ext/anaconda2020.02/condabin:/cocalc/bin:/cocalc/src/smc-project/bin:/home/salvus/bin:/home/salvus/.local/bin:/usr/lib/xpra:/ext/bin:/opt/ghc/bin:/usr/local/sbin:/usr/local/bin:/usr/sbin:/usr/bin:/sbin:/bin:/snap/bin:/usr/lib/postgresql/10/bin:/ext/data/homer/bin:/ext/data/weblogo",
    "PROJ_LIB": "/ext/anaconda2020.02/share/proj",
    "RANLIB": "/ext/anaconda2020.02/bin/x86_64-conda_cos6-linux-gnu-ranlib",
    "READELF": "/ext/anaconda2020.02/bin/x86_64-conda_cos6-linux-gnu-readelf",
    "RSTUDIO_WHICH_R": "/ext/anaconda2020.02/bin/R",
    "SIZE": "/ext/anaconda2020.02/bin/x86_64-conda_cos6-linux-gnu-size",
    "STRINGS": "/ext/anaconda2020.02/bin/x86_64-conda_cos6-linux-gnu-strings",
    "STRIP": "/ext/anaconda2020.02/bin/x86_64-conda_cos6-linux-gnu-strip",
    "_CE_CONDA": "",
    "_CE_M": "",
    "_CONDA_PYTHON_SYSCONFIGDATA_NAME": "_sysconfigdata_x86_64_conda_cos6_linux_gnu"
   },
   "language": "python",
   "metadata": {
    "cocalc": {
     "description": "Python/R distribution for data science",
     "priority": 5,
     "url": "https://www.anaconda.com/distribution/"
    }
   },
   "name": "anaconda2020",
   "resource_dir": "/ext/jupyter/kernels/anaconda2020"
  },
  "language_info": {
   "codemirror_mode": {
    "name": "ipython",
    "version": 3
   },
   "file_extension": ".py",
   "mimetype": "text/x-python",
   "name": "python",
   "nbconvert_exporter": "python",
   "pygments_lexer": "ipython3",
   "version": "3.7.8"
  }
 },
 "nbformat": 4,
 "nbformat_minor": 4
}